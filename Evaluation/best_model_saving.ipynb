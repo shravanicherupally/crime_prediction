{
 "cells": [
  {
   "cell_type": "code",
   "execution_count": 7,
   "id": "995e1bcc",
   "metadata": {},
   "outputs": [
    {
     "name": "stdout",
     "output_type": "stream",
     "text": [
      "✅ Best model (Random Forest) saved as: ../App/model/model.pkl\n",
      "📌 Best model used: Random Forest\n"
     ]
    }
   ],
   "source": [
    "# --------------------------------------------\n",
    "# 📌 1. Import joblib\n",
    "# --------------------------------------------\n",
    "import joblib\n",
    "\n",
    "# --------------------------------------------\n",
    "# 📌 2. Train Random Forest model `rf` if not already defined\n",
    "# --------------------------------------------\n",
    "rf = RandomForestClassifier(random_state=42)\n",
    "rf.fit(X_train, y_train)\n",
    "\n",
    "# --------------------------------------------\n",
    "# 📌 3. Save the best model as .pkl\n",
    "# --------------------------------------------\n",
    "joblib.dump(rf, '../App/model/model.pkl')\n",
    "\n",
    "print(\"✅ Best model (Random Forest) saved as: ../App/model/model.pkl\")\n",
    "print(\"📌 Best model used: Random Forest\")\n"
   ]
  }
 ],
 "metadata": {
  "kernelspec": {
   "display_name": "project_7",
   "language": "python",
   "name": "python3"
  },
  "language_info": {
   "codemirror_mode": {
    "name": "ipython",
    "version": 3
   },
   "file_extension": ".py",
   "mimetype": "text/x-python",
   "name": "python",
   "nbconvert_exporter": "python",
   "pygments_lexer": "ipython3",
   "version": "3.10.18"
  }
 },
 "nbformat": 4,
 "nbformat_minor": 5
}
