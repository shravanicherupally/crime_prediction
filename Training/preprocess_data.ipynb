{
 "cells": [
  {
   "cell_type": "code",
   "execution_count": 27,
   "id": "28c3c63e",
   "metadata": {},
   "outputs": [],
   "source": [
    "# 📌 1. Import Libraries\n",
    "# --------------------------------------------\n",
    "import pandas as pd\n",
    "import numpy as np\n",
    "from scipy import stats\n",
    "from sklearn.preprocessing import LabelEncoder"
   ]
  },
  {
   "cell_type": "code",
   "execution_count": 28,
   "id": "a9edefd0",
   "metadata": {},
   "outputs": [
    {
     "name": "stdout",
     "output_type": "stream",
     "text": [
      "Initial Shape: (3000, 5)\n"
     ]
    },
    {
     "data": {
      "text/html": [
       "<div>\n",
       "<style scoped>\n",
       "    .dataframe tbody tr th:only-of-type {\n",
       "        vertical-align: middle;\n",
       "    }\n",
       "\n",
       "    .dataframe tbody tr th {\n",
       "        vertical-align: top;\n",
       "    }\n",
       "\n",
       "    .dataframe thead th {\n",
       "        text-align: right;\n",
       "    }\n",
       "</style>\n",
       "<table border=\"1\" class=\"dataframe\">\n",
       "  <thead>\n",
       "    <tr style=\"text-align: right;\">\n",
       "      <th></th>\n",
       "      <th>Crime_Category</th>\n",
       "      <th>Crime_Severity_Level</th>\n",
       "      <th>Use_of_Weapon</th>\n",
       "      <th>Repeat_Offender</th>\n",
       "      <th>IPC_Section_and_Punishment</th>\n",
       "    </tr>\n",
       "  </thead>\n",
       "  <tbody>\n",
       "    <tr>\n",
       "      <th>0</th>\n",
       "      <td>Murder</td>\n",
       "      <td>Minor</td>\n",
       "      <td>1</td>\n",
       "      <td>1</td>\n",
       "      <td>IPC 302 - Life Imprisonment</td>\n",
       "    </tr>\n",
       "    <tr>\n",
       "      <th>1</th>\n",
       "      <td>Assault</td>\n",
       "      <td>Moderate</td>\n",
       "      <td>0</td>\n",
       "      <td>1</td>\n",
       "      <td>IPC 324 - Up to 3 years</td>\n",
       "    </tr>\n",
       "    <tr>\n",
       "      <th>2</th>\n",
       "      <td>Assault</td>\n",
       "      <td>Moderate</td>\n",
       "      <td>1</td>\n",
       "      <td>1</td>\n",
       "      <td>IPC 324 - Up to 3 years</td>\n",
       "    </tr>\n",
       "    <tr>\n",
       "      <th>3</th>\n",
       "      <td>Fraud</td>\n",
       "      <td>Severe</td>\n",
       "      <td>0</td>\n",
       "      <td>1</td>\n",
       "      <td>IPC 420 - Up to 7 years</td>\n",
       "    </tr>\n",
       "    <tr>\n",
       "      <th>4</th>\n",
       "      <td>Assault</td>\n",
       "      <td>Severe</td>\n",
       "      <td>0</td>\n",
       "      <td>1</td>\n",
       "      <td>IPC 324 - Up to 3 years</td>\n",
       "    </tr>\n",
       "  </tbody>\n",
       "</table>\n",
       "</div>"
      ],
      "text/plain": [
       "  Crime_Category Crime_Severity_Level  Use_of_Weapon  Repeat_Offender  \\\n",
       "0         Murder                Minor              1                1   \n",
       "1        Assault             Moderate              0                1   \n",
       "2        Assault             Moderate              1                1   \n",
       "3          Fraud               Severe              0                1   \n",
       "4        Assault               Severe              0                1   \n",
       "\n",
       "    IPC_Section_and_Punishment  \n",
       "0  IPC 302 - Life Imprisonment  \n",
       "1      IPC 324 - Up to 3 years  \n",
       "2      IPC 324 - Up to 3 years  \n",
       "3      IPC 420 - Up to 7 years  \n",
       "4      IPC 324 - Up to 3 years  "
      ]
     },
     "execution_count": 28,
     "metadata": {},
     "output_type": "execute_result"
    }
   ],
   "source": [
    "# 📌 2. Load Dataset\n",
    "# --------------------------------------------\n",
    "df = pd.read_csv('../Data/dataset.csv')\n",
    "print(\"Initial Shape:\", df.shape)\n",
    "df.head()"
   ]
  },
  {
   "cell_type": "code",
   "execution_count": 29,
   "id": "db3d0e12",
   "metadata": {},
   "outputs": [
    {
     "name": "stdout",
     "output_type": "stream",
     "text": [
      "Unique Crime Categories: ['Murder' 'Assault' 'Fraud' 'Theft']\n",
      "Unique Severity Levels: ['Minor' 'Moderate' 'Severe']\n"
     ]
    }
   ],
   "source": [
    "# --------------------------------------------\n",
    "# 📌 3. Handle Inconsistent Data\n",
    "# --------------------------------------------\n",
    "\n",
    "# Strip extra spaces, title case for consistency\n",
    "df['Crime_Category'] = df['Crime_Category'].astype(str).str.strip().str.title()\n",
    "df['Crime_Severity_Level'] = df['Crime_Severity_Level'].astype(str).str.strip().str.title()\n",
    "\n",
    "print(\"Unique Crime Categories:\", df['Crime_Category'].unique())\n",
    "print(\"Unique Severity Levels:\", df['Crime_Severity_Level'].unique())\n"
   ]
  },
  {
   "cell_type": "code",
   "execution_count": 30,
   "id": "caa62a50",
   "metadata": {},
   "outputs": [
    {
     "name": "stdout",
     "output_type": "stream",
     "text": [
      "Shape after NOT dropping duplicates: (3000, 5)\n"
     ]
    }
   ],
   "source": [
    "# --------------------------------------------\n",
    "# 📌 4. DO NOT Drop Duplicates!\n",
    "# --------------------------------------------\n",
    "\n",
    "# ✅ Duplicates are allowed — we want 3000 rows.\n",
    "# So we skip:\n",
    "# df = df.drop_duplicates()\n",
    "\n",
    "print(\"Shape after NOT dropping duplicates:\", df.shape)\n"
   ]
  },
  {
   "cell_type": "code",
   "execution_count": 31,
   "id": "e87ee3a6",
   "metadata": {},
   "outputs": [
    {
     "name": "stdout",
     "output_type": "stream",
     "text": [
      "Crime_Category                0\n",
      "Crime_Severity_Level          0\n",
      "Use_of_Weapon                 0\n",
      "Repeat_Offender               0\n",
      "IPC_Section_and_Punishment    0\n",
      "dtype: int64\n",
      "Shape after dropping nulls (if any): (3000, 5)\n"
     ]
    }
   ],
   "source": [
    "# --------------------------------------------\n",
    "# 📌 5. Handle Null Values\n",
    "# --------------------------------------------\n",
    "\n",
    "# Check for any nulls\n",
    "print(df.isnull().sum())\n",
    "\n",
    "# Drop rows with nulls if any (should be none)\n",
    "df = df.dropna()\n",
    "print(\"Shape after dropping nulls (if any):\", df.shape)\n"
   ]
  },
  {
   "cell_type": "code",
   "execution_count": 32,
   "id": "8e1ac8e3",
   "metadata": {},
   "outputs": [
    {
     "name": "stdout",
     "output_type": "stream",
     "text": [
      "Shape after outlier removal: (3000, 5)\n"
     ]
    }
   ],
   "source": [
    "# --------------------------------------------\n",
    "# 📌 6. Remove Outliers (basic, for numeric binary fields)\n",
    "# --------------------------------------------\n",
    "\n",
    "# Use Z-score for numeric binary fields:\n",
    "numeric_cols = ['Use_of_Weapon', 'Repeat_Offender']\n",
    "z_scores = np.abs(stats.zscore(df[numeric_cols]))\n",
    "df = df[(z_scores < 3).all(axis=1)]\n",
    "print(\"Shape after outlier removal:\", df.shape)\n"
   ]
  },
  {
   "cell_type": "code",
   "execution_count": 33,
   "id": "2088d5a9",
   "metadata": {},
   "outputs": [
    {
     "name": "stdout",
     "output_type": "stream",
     "text": [
      "  Crime_Category Crime_Severity_Level  Use_of_Weapon  Severity_Weapon_Flag\n",
      "0         Murder                Minor              1                     0\n",
      "1        Assault             Moderate              0                     0\n",
      "2        Assault             Moderate              1                     0\n",
      "3          Fraud               Severe              0                     0\n",
      "4        Assault               Severe              0                     0\n"
     ]
    }
   ],
   "source": [
    "# --------------------------------------------\n",
    "# 📌 7. Feature Engineering\n",
    "# --------------------------------------------\n",
    "\n",
    "# Example: Create flag if severity is Severe and weapon used\n",
    "df['Severity_Weapon_Flag'] = np.where(\n",
    "    (df['Crime_Severity_Level'] == 'Severe') & (df['Use_of_Weapon'] == 1),\n",
    "    1, 0\n",
    ")\n",
    "\n",
    "print(df[['Crime_Category', 'Crime_Severity_Level', 'Use_of_Weapon', 'Severity_Weapon_Flag']].head())\n"
   ]
  },
  {
   "cell_type": "code",
   "execution_count": 34,
   "id": "32e5ad69",
   "metadata": {},
   "outputs": [
    {
     "name": "stdout",
     "output_type": "stream",
     "text": [
      "   Crime_Category  Crime_Severity_Level  Use_of_Weapon  Repeat_Offender  \\\n",
      "0               2                     0              1                1   \n",
      "1               0                     1              0                1   \n",
      "2               0                     1              1                1   \n",
      "3               1                     2              0                1   \n",
      "4               0                     2              0                1   \n",
      "\n",
      "   IPC_Section_and_Punishment  Severity_Weapon_Flag  \n",
      "0                           0                     0  \n",
      "1                           1                     0  \n",
      "2                           1                     0  \n",
      "3                           3                     0  \n",
      "4                           1                     0  \n"
     ]
    }
   ],
   "source": [
    "# --------------------------------------------\n",
    "# 📌 8. Encode Categorical Variables\n",
    "# --------------------------------------------\n",
    "\n",
    "# Initialize encoders\n",
    "le_category = LabelEncoder()\n",
    "le_severity = LabelEncoder()\n",
    "le_target = LabelEncoder()\n",
    "\n",
    "# Encode features\n",
    "df['Crime_Category'] = le_category.fit_transform(df['Crime_Category'])\n",
    "df['Crime_Severity_Level'] = le_severity.fit_transform(df['Crime_Severity_Level'])\n",
    "df['IPC_Section_and_Punishment'] = le_target.fit_transform(df['IPC_Section_and_Punishment'])\n",
    "\n",
    "print(df.head())\n"
   ]
  },
  {
   "cell_type": "code",
   "execution_count": 35,
   "id": "ed03e38a",
   "metadata": {},
   "outputs": [
    {
     "name": "stdout",
     "output_type": "stream",
     "text": [
      "✅ Final shape: (3000, 6)\n"
     ]
    }
   ],
   "source": [
    "# --------------------------------------------\n",
    "# 📌 9. Data Reduction\n",
    "# --------------------------------------------\n",
    "\n",
    "# No extra columns here, so nothing to drop.\n",
    "# df = df.drop(['Unwanted_Column'], axis=1)\n",
    "\n",
    "print(\"✅ Final shape:\", df.shape)\n"
   ]
  },
  {
   "cell_type": "code",
   "execution_count": 36,
   "id": "210e2b66",
   "metadata": {},
   "outputs": [
    {
     "name": "stdout",
     "output_type": "stream",
     "text": [
      "✅ Preprocessed dataset saved at ../Data/preprocessed_crime_dataset.csv\n"
     ]
    }
   ],
   "source": [
    "# --------------------------------------------\n",
    "# 📌 10. Save Preprocessed Data to CSV\n",
    "# --------------------------------------------\n",
    "\n",
    "df.to_csv('../Data/preprocessed_crime_dataset.csv', index=False)\n",
    "print(\"✅ Preprocessed dataset saved at ../Data/preprocessed_crime_dataset.csv\")\n"
   ]
  },
  {
   "cell_type": "code",
   "execution_count": 39,
   "id": "ec57ac58",
   "metadata": {},
   "outputs": [
    {
     "name": "stdout",
     "output_type": "stream",
     "text": [
      "✅ Original shape: (3000, 5)\n",
      "✅ After removing duplicates: (48, 5)\n",
      "✅ After dropping nulls: (48, 5)\n",
      "✅ LabelEncoder classes_: ['IPC 302 - Life Imprisonment' 'IPC 324 - Up to 3 years'\n",
      " 'IPC 379 - Up to 3 years' 'IPC 420 - Up to 7 years']\n",
      "✅ LabelEncoder saved as: App/model/label_encoder.pkl\n",
      "✅ Final preprocessed dataset saved: (48, 6)\n",
      "   Crime_Category  Crime_Severity_Level  Use_of_Weapon  Repeat_Offender  \\\n",
      "0               1                     0              1                1   \n",
      "1               2                     1              0                1   \n",
      "2               2                     1              1                1   \n",
      "3               3                     2              0                1   \n",
      "4               2                     2              0                1   \n",
      "\n",
      "   IPC_Section_and_Punishment  Severity_Weapon_Flag  \n",
      "0                           0                     0  \n",
      "1                           1                     0  \n",
      "2                           1                     0  \n",
      "3                           3                     0  \n",
      "4                           1                     0  \n"
     ]
    }
   ],
   "source": [
    "# ================================\n",
    "# 1️⃣  IMPORTS\n",
    "# ================================\n",
    "import pandas as pd\n",
    "import numpy as np\n",
    "from sklearn.preprocessing import LabelEncoder\n",
    "import joblib\n",
    "\n",
    "# ================================\n",
    "# 2️⃣  LOAD RAW DATA\n",
    "# ================================\n",
    "# Adjust the path as needed\n",
    "df = pd.read_csv('../Data/dataset.csv')\n",
    "print(f\"✅ Original shape: {df.shape}\")\n",
    "\n",
    "# ================================\n",
    "# 3️⃣  DATA CLEANING\n",
    "# ================================\n",
    "\n",
    "# 3.1 Drop duplicates\n",
    "df.drop_duplicates(inplace=True)\n",
    "print(f\"✅ After removing duplicates: {df.shape}\")\n",
    "\n",
    "# 3.2 Drop nulls\n",
    "df.dropna(inplace=True)\n",
    "print(f\"✅ After dropping nulls: {df.shape}\")\n",
    "\n",
    "# 3.3 Optional: Handle outliers\n",
    "# Example: Outliers not typical here since it's categorical.\n",
    "# But for numeric: you could do z-score or IQR based removal if needed.\n",
    "\n",
    "# ================================\n",
    "# 4️⃣  ENCODING TARGET VARIABLE\n",
    "# ================================\n",
    "le = LabelEncoder()\n",
    "df['IPC_Section_and_Punishment'] = le.fit_transform(df['IPC_Section_and_Punishment'])\n",
    "\n",
    "# ✅ Print the encoder classes to verify order\n",
    "print(f\"✅ LabelEncoder classes_: {le.classes_}\")\n",
    "\n",
    "# ✅ Save the encoder for your Flask app\n",
    "joblib.dump(le, '../App/model/label_encoder.pkl')\n",
    "print(\"✅ LabelEncoder saved as: App/model/label_encoder.pkl\")\n",
    "\n",
    "# ================================\n",
    "# 5️⃣  FEATURE ENGINEERING\n",
    "# ================================\n",
    "# Example: Add Severity_Weapon_Flag\n",
    "df['Severity_Weapon_Flag'] = np.where(\n",
    "    (df['Crime_Severity_Level'] == 'Severe') & (df['Use_of_Weapon'] == 1),\n",
    "    1,\n",
    "    0\n",
    ")\n",
    "\n",
    "# If 'Crime_Severity_Level' is string, map it to numeric:\n",
    "severity_map = {'Minor': 0, 'Moderate': 1, 'Severe': 2}\n",
    "df['Crime_Severity_Level'] = df['Crime_Severity_Level'].map(severity_map)\n",
    "\n",
    "# ✅ Also encode 'Crime_Category' if needed:\n",
    "category_map = {'Theft': 0, 'Murder': 1, 'Assault': 2, 'Fraud': 3}\n",
    "df['Crime_Category'] = df['Crime_Category'].map(category_map)\n",
    "\n",
    "# ================================\n",
    "# 6️⃣  SAVE FINAL CLEANED DATA\n",
    "# ================================\n",
    "df.to_csv('../Data/preprocessed_dataset.csv', index=False)\n",
    "print(f\"✅ Final preprocessed dataset saved: {df.shape}\")\n",
    "print(df.head())\n"
   ]
  }
 ],
 "metadata": {
  "kernelspec": {
   "display_name": "project_7",
   "language": "python",
   "name": "python3"
  },
  "language_info": {
   "codemirror_mode": {
    "name": "ipython",
    "version": 3
   },
   "file_extension": ".py",
   "mimetype": "text/x-python",
   "name": "python",
   "nbconvert_exporter": "python",
   "pygments_lexer": "ipython3",
   "version": "3.10.18"
  }
 },
 "nbformat": 4,
 "nbformat_minor": 5
}
