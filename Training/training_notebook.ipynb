{
 "cells": [
  {
   "cell_type": "code",
   "execution_count": 1,
   "id": "999262ef",
   "metadata": {},
   "outputs": [],
   "source": [
    "# 📌 1. Import Libraries\n",
    "# --------------------------------------------\n",
    "import pandas as pd\n",
    "from sklearn.model_selection import train_test_split\n",
    "from sklearn.linear_model import LogisticRegression\n",
    "from sklearn.svm import SVC\n",
    "from sklearn.ensemble import RandomForestClassifier, AdaBoostClassifier, GradientBoostingClassifier\n",
    "from sklearn.metrics import accuracy_score"
   ]
  },
  {
   "cell_type": "code",
   "execution_count": 2,
   "id": "3f1dd278",
   "metadata": {},
   "outputs": [
    {
     "name": "stdout",
     "output_type": "stream",
     "text": [
      "✅ Data Loaded! Shape: (3000, 6)\n"
     ]
    },
    {
     "data": {
      "text/html": [
       "<div>\n",
       "<style scoped>\n",
       "    .dataframe tbody tr th:only-of-type {\n",
       "        vertical-align: middle;\n",
       "    }\n",
       "\n",
       "    .dataframe tbody tr th {\n",
       "        vertical-align: top;\n",
       "    }\n",
       "\n",
       "    .dataframe thead th {\n",
       "        text-align: right;\n",
       "    }\n",
       "</style>\n",
       "<table border=\"1\" class=\"dataframe\">\n",
       "  <thead>\n",
       "    <tr style=\"text-align: right;\">\n",
       "      <th></th>\n",
       "      <th>Crime_Category</th>\n",
       "      <th>Crime_Severity_Level</th>\n",
       "      <th>Use_of_Weapon</th>\n",
       "      <th>Repeat_Offender</th>\n",
       "      <th>IPC_Section_and_Punishment</th>\n",
       "      <th>Severity_Weapon_Flag</th>\n",
       "    </tr>\n",
       "  </thead>\n",
       "  <tbody>\n",
       "    <tr>\n",
       "      <th>0</th>\n",
       "      <td>2</td>\n",
       "      <td>0</td>\n",
       "      <td>1</td>\n",
       "      <td>1</td>\n",
       "      <td>0</td>\n",
       "      <td>0</td>\n",
       "    </tr>\n",
       "    <tr>\n",
       "      <th>1</th>\n",
       "      <td>0</td>\n",
       "      <td>1</td>\n",
       "      <td>0</td>\n",
       "      <td>1</td>\n",
       "      <td>1</td>\n",
       "      <td>0</td>\n",
       "    </tr>\n",
       "    <tr>\n",
       "      <th>2</th>\n",
       "      <td>0</td>\n",
       "      <td>1</td>\n",
       "      <td>1</td>\n",
       "      <td>1</td>\n",
       "      <td>1</td>\n",
       "      <td>0</td>\n",
       "    </tr>\n",
       "    <tr>\n",
       "      <th>3</th>\n",
       "      <td>1</td>\n",
       "      <td>2</td>\n",
       "      <td>0</td>\n",
       "      <td>1</td>\n",
       "      <td>3</td>\n",
       "      <td>0</td>\n",
       "    </tr>\n",
       "    <tr>\n",
       "      <th>4</th>\n",
       "      <td>0</td>\n",
       "      <td>2</td>\n",
       "      <td>0</td>\n",
       "      <td>1</td>\n",
       "      <td>1</td>\n",
       "      <td>0</td>\n",
       "    </tr>\n",
       "  </tbody>\n",
       "</table>\n",
       "</div>"
      ],
      "text/plain": [
       "   Crime_Category  Crime_Severity_Level  Use_of_Weapon  Repeat_Offender  \\\n",
       "0               2                     0              1                1   \n",
       "1               0                     1              0                1   \n",
       "2               0                     1              1                1   \n",
       "3               1                     2              0                1   \n",
       "4               0                     2              0                1   \n",
       "\n",
       "   IPC_Section_and_Punishment  Severity_Weapon_Flag  \n",
       "0                           0                     0  \n",
       "1                           1                     0  \n",
       "2                           1                     0  \n",
       "3                           3                     0  \n",
       "4                           1                     0  "
      ]
     },
     "execution_count": 2,
     "metadata": {},
     "output_type": "execute_result"
    }
   ],
   "source": [
    "# 📌 2. Load Preprocessed Data\n",
    "# --------------------------------------------\n",
    "df = pd.read_csv('../Data/preprocessed_crime_dataset.csv')\n",
    "print(\"✅ Data Loaded! Shape:\", df.shape)\n",
    "df.head()"
   ]
  },
  {
   "cell_type": "code",
   "execution_count": 3,
   "id": "3ee1e2c7",
   "metadata": {},
   "outputs": [
    {
     "name": "stdout",
     "output_type": "stream",
     "text": [
      "Features shape: (3000, 5)\n",
      "Target shape: (3000,)\n"
     ]
    }
   ],
   "source": [
    "# --------------------------------------------\n",
    "# 📌 3. Define Features and Target\n",
    "# --------------------------------------------\n",
    "X = df[['Crime_Category', 'Crime_Severity_Level', 'Use_of_Weapon', 'Repeat_Offender', 'Severity_Weapon_Flag']]\n",
    "y = df['IPC_Section_and_Punishment']\n",
    "\n",
    "print(\"Features shape:\", X.shape)\n",
    "print(\"Target shape:\", y.shape)\n"
   ]
  },
  {
   "cell_type": "code",
   "execution_count": 4,
   "id": "f42bcd4a",
   "metadata": {},
   "outputs": [
    {
     "name": "stdout",
     "output_type": "stream",
     "text": [
      "Train shape: (2400, 5)\n",
      "Test shape: (600, 5)\n"
     ]
    }
   ],
   "source": [
    "# --------------------------------------------\n",
    "# 📌 4. Train-Test Split\n",
    "# --------------------------------------------\n",
    "X_train, X_test, y_train, y_test = train_test_split(\n",
    "    X, y, test_size=0.2, random_state=42\n",
    ")\n",
    "\n",
    "print(\"Train shape:\", X_train.shape)\n",
    "print(\"Test shape:\", X_test.shape)\n"
   ]
  },
  {
   "cell_type": "code",
   "execution_count": 5,
   "id": "26733c5f",
   "metadata": {},
   "outputs": [
    {
     "name": "stdout",
     "output_type": "stream",
     "text": [
      "✅ Logistic Regression Accuracy: 1.0000\n"
     ]
    }
   ],
   "source": [
    "# --------------------------------------------\n",
    "# 📌 5. Train Logistic Regression\n",
    "# --------------------------------------------\n",
    "lr = LogisticRegression(max_iter=1000)\n",
    "lr.fit(X_train, y_train)\n",
    "lr_pred = lr.predict(X_test)\n",
    "lr_acc = accuracy_score(y_test, lr_pred)\n",
    "print(f\"✅ Logistic Regression Accuracy: {lr_acc:.4f}\")\n"
   ]
  },
  {
   "cell_type": "code",
   "execution_count": 6,
   "id": "639bc684",
   "metadata": {},
   "outputs": [
    {
     "name": "stdout",
     "output_type": "stream",
     "text": [
      "✅ SVM Accuracy: 1.0000\n"
     ]
    }
   ],
   "source": [
    "# --------------------------------------------\n",
    "# 📌 6. Train SVM\n",
    "# --------------------------------------------\n",
    "svm = SVC()\n",
    "svm.fit(X_train, y_train)\n",
    "svm_pred = svm.predict(X_test)\n",
    "svm_acc = accuracy_score(y_test, svm_pred)\n",
    "print(f\"✅ SVM Accuracy: {svm_acc:.4f}\")\n"
   ]
  },
  {
   "cell_type": "code",
   "execution_count": 7,
   "id": "b1a44f77",
   "metadata": {},
   "outputs": [
    {
     "name": "stdout",
     "output_type": "stream",
     "text": [
      "✅ Random Forest Accuracy: 1.0000\n"
     ]
    }
   ],
   "source": [
    "# --------------------------------------------\n",
    "# 📌 7. Train Random Forest\n",
    "# --------------------------------------------\n",
    "rf = RandomForestClassifier(random_state=42)\n",
    "rf.fit(X_train, y_train)\n",
    "rf_pred = rf.predict(X_test)\n",
    "rf_acc = accuracy_score(y_test, rf_pred)\n",
    "print(f\"✅ Random Forest Accuracy: {rf_acc:.4f}\")\n"
   ]
  },
  {
   "cell_type": "code",
   "execution_count": 8,
   "id": "dfdda340",
   "metadata": {},
   "outputs": [
    {
     "name": "stdout",
     "output_type": "stream",
     "text": [
      "✅ AdaBoost Accuracy: 0.5183\n"
     ]
    }
   ],
   "source": [
    "# --------------------------------------------\n",
    "# 📌 8. Train AdaBoost\n",
    "# --------------------------------------------\n",
    "ada = AdaBoostClassifier(random_state=42)\n",
    "ada.fit(X_train, y_train)\n",
    "ada_pred = ada.predict(X_test)\n",
    "ada_acc = accuracy_score(y_test, ada_pred)\n",
    "print(f\"✅ AdaBoost Accuracy: {ada_acc:.4f}\")\n"
   ]
  },
  {
   "cell_type": "code",
   "execution_count": 9,
   "id": "71fe9967",
   "metadata": {},
   "outputs": [
    {
     "name": "stdout",
     "output_type": "stream",
     "text": [
      "✅ Gradient Boosting Accuracy: 1.0000\n"
     ]
    }
   ],
   "source": [
    "# --------------------------------------------\n",
    "# 📌 9. Train Gradient Boosting\n",
    "# --------------------------------------------\n",
    "gb = GradientBoostingClassifier(random_state=42)\n",
    "gb.fit(X_train, y_train)\n",
    "gb_pred = gb.predict(X_test)\n",
    "gb_acc = accuracy_score(y_test, gb_pred)\n",
    "print(f\"✅ Gradient Boosting Accuracy: {gb_acc:.4f}\")\n"
   ]
  }
 ],
 "metadata": {
  "kernelspec": {
   "display_name": "project_7",
   "language": "python",
   "name": "python3"
  },
  "language_info": {
   "codemirror_mode": {
    "name": "ipython",
    "version": 3
   },
   "file_extension": ".py",
   "mimetype": "text/x-python",
   "name": "python",
   "nbconvert_exporter": "python",
   "pygments_lexer": "ipython3",
   "version": "3.10.18"
  }
 },
 "nbformat": 4,
 "nbformat_minor": 5
}
